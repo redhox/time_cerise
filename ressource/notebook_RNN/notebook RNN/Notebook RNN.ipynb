{
 "cells": [
  {
   "cell_type": "markdown",
   "metadata": {
    "id": "XdfXfXK2-CiG"
   },
   "source": [
    "# Prédiction de séries temporelles avec des RNN\n",
    "\n",
    "\n",
    "Data: Dataset \"Bike Sharing in Washington D.C. \"\n",
    "\n",
    "\n",
    "Resultat:  %80 de précision (métrique : 1-mae/mean)\n"
   ]
  },
  {
   "cell_type": "code",
   "execution_count": 1,
   "metadata": {
    "id": "VpENN2vGwbhU"
   },
   "outputs": [],
   "source": [
    "import pandas as pd;\n",
    "import matplotlib.pyplot as plt\n",
    "from numpy import array\n",
    "from numpy import hstack\n",
    "from keras.models import Sequential\n",
    "from keras.layers import Dense\n",
    "from keras.layers import LSTM\n",
    "from keras.layers import RNN, SimpleRNN\n",
    "from keras.preprocessing.sequence import TimeseriesGenerator\n",
    "from keras.layers import Dropout\n",
    "from keras.optimizers import Adam\n",
    "from keras.layers.core import Activation\n",
    "from keras.callbacks import LambdaCallback\n",
    "from sklearn.preprocessing import MinMaxScaler\n",
    "\n"
   ]
  },
  {
   "cell_type": "markdown",
   "metadata": {
    "id": "iztUacrB_hEZ"
   },
   "source": [
    "# Data processing"
   ]
  },
  {
   "cell_type": "markdown",
   "metadata": {},
   "source": [
    "Chargement du dataset"
   ]
  },
  {
   "cell_type": "code",
   "execution_count": 2,
   "metadata": {
    "id": "rSpXyDZ5MbgE"
   },
   "outputs": [
    {
     "data": {
      "text/html": [
       "<div>\n",
       "<style scoped>\n",
       "    .dataframe tbody tr th:only-of-type {\n",
       "        vertical-align: middle;\n",
       "    }\n",
       "\n",
       "    .dataframe tbody tr th {\n",
       "        vertical-align: top;\n",
       "    }\n",
       "\n",
       "    .dataframe thead th {\n",
       "        text-align: right;\n",
       "    }\n",
       "</style>\n",
       "<table border=\"1\" class=\"dataframe\">\n",
       "  <thead>\n",
       "    <tr style=\"text-align: right;\">\n",
       "      <th></th>\n",
       "      <th>instant</th>\n",
       "      <th>dteday</th>\n",
       "      <th>season</th>\n",
       "      <th>yr</th>\n",
       "      <th>mnth</th>\n",
       "      <th>holiday</th>\n",
       "      <th>weekday</th>\n",
       "      <th>workingday</th>\n",
       "      <th>weathersit</th>\n",
       "      <th>temp</th>\n",
       "      <th>atemp</th>\n",
       "      <th>hum</th>\n",
       "      <th>windspeed</th>\n",
       "      <th>casual</th>\n",
       "      <th>registered</th>\n",
       "      <th>cnt</th>\n",
       "    </tr>\n",
       "  </thead>\n",
       "  <tbody>\n",
       "    <tr>\n",
       "      <th>0</th>\n",
       "      <td>1</td>\n",
       "      <td>2011-01-01</td>\n",
       "      <td>1</td>\n",
       "      <td>0</td>\n",
       "      <td>1</td>\n",
       "      <td>0</td>\n",
       "      <td>6</td>\n",
       "      <td>0</td>\n",
       "      <td>2</td>\n",
       "      <td>0.344167</td>\n",
       "      <td>0.363625</td>\n",
       "      <td>0.805833</td>\n",
       "      <td>0.160446</td>\n",
       "      <td>331</td>\n",
       "      <td>654</td>\n",
       "      <td>985</td>\n",
       "    </tr>\n",
       "    <tr>\n",
       "      <th>1</th>\n",
       "      <td>2</td>\n",
       "      <td>2011-01-02</td>\n",
       "      <td>1</td>\n",
       "      <td>0</td>\n",
       "      <td>1</td>\n",
       "      <td>0</td>\n",
       "      <td>0</td>\n",
       "      <td>0</td>\n",
       "      <td>2</td>\n",
       "      <td>0.363478</td>\n",
       "      <td>0.353739</td>\n",
       "      <td>0.696087</td>\n",
       "      <td>0.248539</td>\n",
       "      <td>131</td>\n",
       "      <td>670</td>\n",
       "      <td>801</td>\n",
       "    </tr>\n",
       "    <tr>\n",
       "      <th>2</th>\n",
       "      <td>3</td>\n",
       "      <td>2011-01-03</td>\n",
       "      <td>1</td>\n",
       "      <td>0</td>\n",
       "      <td>1</td>\n",
       "      <td>0</td>\n",
       "      <td>1</td>\n",
       "      <td>1</td>\n",
       "      <td>1</td>\n",
       "      <td>0.196364</td>\n",
       "      <td>0.189405</td>\n",
       "      <td>0.437273</td>\n",
       "      <td>0.248309</td>\n",
       "      <td>120</td>\n",
       "      <td>1229</td>\n",
       "      <td>1349</td>\n",
       "    </tr>\n",
       "    <tr>\n",
       "      <th>3</th>\n",
       "      <td>4</td>\n",
       "      <td>2011-01-04</td>\n",
       "      <td>1</td>\n",
       "      <td>0</td>\n",
       "      <td>1</td>\n",
       "      <td>0</td>\n",
       "      <td>2</td>\n",
       "      <td>1</td>\n",
       "      <td>1</td>\n",
       "      <td>0.200000</td>\n",
       "      <td>0.212122</td>\n",
       "      <td>0.590435</td>\n",
       "      <td>0.160296</td>\n",
       "      <td>108</td>\n",
       "      <td>1454</td>\n",
       "      <td>1562</td>\n",
       "    </tr>\n",
       "    <tr>\n",
       "      <th>4</th>\n",
       "      <td>5</td>\n",
       "      <td>2011-01-05</td>\n",
       "      <td>1</td>\n",
       "      <td>0</td>\n",
       "      <td>1</td>\n",
       "      <td>0</td>\n",
       "      <td>3</td>\n",
       "      <td>1</td>\n",
       "      <td>1</td>\n",
       "      <td>0.226957</td>\n",
       "      <td>0.229270</td>\n",
       "      <td>0.436957</td>\n",
       "      <td>0.186900</td>\n",
       "      <td>82</td>\n",
       "      <td>1518</td>\n",
       "      <td>1600</td>\n",
       "    </tr>\n",
       "  </tbody>\n",
       "</table>\n",
       "</div>"
      ],
      "text/plain": [
       "   instant      dteday  season  yr  mnth  holiday  weekday  workingday  \\\n",
       "0        1  2011-01-01       1   0     1        0        6           0   \n",
       "1        2  2011-01-02       1   0     1        0        0           0   \n",
       "2        3  2011-01-03       1   0     1        0        1           1   \n",
       "3        4  2011-01-04       1   0     1        0        2           1   \n",
       "4        5  2011-01-05       1   0     1        0        3           1   \n",
       "\n",
       "   weathersit      temp     atemp       hum  windspeed  casual  registered  \\\n",
       "0           2  0.344167  0.363625  0.805833   0.160446     331         654   \n",
       "1           2  0.363478  0.353739  0.696087   0.248539     131         670   \n",
       "2           1  0.196364  0.189405  0.437273   0.248309     120        1229   \n",
       "3           1  0.200000  0.212122  0.590435   0.160296     108        1454   \n",
       "4           1  0.226957  0.229270  0.436957   0.186900      82        1518   \n",
       "\n",
       "    cnt  \n",
       "0   985  \n",
       "1   801  \n",
       "2  1349  \n",
       "3  1562  \n",
       "4  1600  "
      ]
     },
     "execution_count": 2,
     "metadata": {},
     "output_type": "execute_result"
    }
   ],
   "source": [
    "\n",
    "dataset = pd.read_csv('C:/Code_ML/Code/NoteBooks Cours TS - RNN-LSTM/notebook RNN/day.csv')\n",
    "\n",
    "dataset.head()"
   ]
  },
  {
   "cell_type": "code",
   "execution_count": 3,
   "metadata": {
    "colab": {
     "base_uri": "https://localhost:8080/",
     "height": 468
    },
    "id": "Ffa-_1dBgqGs",
    "outputId": "3dcf86bd-b282-4e1b-ff8d-c5c2a842b90b"
   },
   "outputs": [
    {
     "data": {
      "image/png": "[encoded data removed]",
      "text/plain": [
       "<Figure size 1500x1000 with 1 Axes>"
      ]
     },
     "metadata": {},
     "output_type": "display_data"
    }
   ],
   "source": [
    "plt.figure(figsize=(15,10))\n",
    "plt.plot(dataset['cnt'], color='blue')\n",
    "plt.show()"
   ]
  },
  {
   "cell_type": "markdown",
   "metadata": {
    "id": "0tO2mjuogqIw"
   },
   "source": [
    "## One Hot Encoding\n",
    "\n"
   ]
  },
  {
   "cell_type": "code",
   "execution_count": 4,
   "metadata": {
    "colab": {
     "base_uri": "https://localhost:8080/",
     "height": 34
    },
    "id": "4Dz2rtk0gqIx",
    "outputId": "9779bd56-5da0-4f2d-e599-992e13e9437f"
   },
   "outputs": [],
   "source": [
    "one_hot = pd.get_dummies(dataset['weekday'], prefix='weekday')\n",
    "dataset = dataset.join(one_hot)\n",
    "\n",
    "one_hot = pd.get_dummies(dataset['weathersit'], prefix='weathersit')\n",
    "dataset = dataset.join(one_hot)\n",
    "\n",
    "one_hot = pd.get_dummies(dataset['mnth'], prefix='mnth')\n",
    "dataset = dataset.join(one_hot)"
   ]
  },
  {
   "cell_type": "markdown",
   "metadata": {
    "colab": {
     "base_uri": "https://localhost:8080/",
     "height": 499
    },
    "id": "_tSrx5VlgqIz",
    "outputId": "03c1e286-5254-45c1-d059-49ab0b21fedf"
   },
   "source": [
    "# Scaling"
   ]
  },
  {
   "cell_type": "code",
   "execution_count": 5,
   "metadata": {
    "colab": {
     "base_uri": "https://localhost:8080/",
     "height": 605
    },
    "id": "K4MmPhMggqIn",
    "outputId": "189336bb-5bd7-47f8-a366-5ceea4f79ab7"
   },
   "outputs": [],
   "source": [
    "scaler = MinMaxScaler(feature_range=(0, 1))\n",
    "scaled = scaler.fit_transform(array(dataset['cnt']).reshape(len(dataset['cnt']), 1))\n",
    "series = pd.DataFrame(scaled)\n",
    "series.columns = ['cntscl']"
   ]
  },
  {
   "cell_type": "code",
   "execution_count": 6,
   "metadata": {
    "id": "195SrZF8gqI1"
   },
   "outputs": [
    {
     "data": {
      "text/html": [
       "<div>\n",
       "<style scoped>\n",
       "    .dataframe tbody tr th:only-of-type {\n",
       "        vertical-align: middle;\n",
       "    }\n",
       "\n",
       "    .dataframe tbody tr th {\n",
       "        vertical-align: top;\n",
       "    }\n",
       "\n",
       "    .dataframe thead th {\n",
       "        text-align: right;\n",
       "    }\n",
       "</style>\n",
       "<table border=\"1\" class=\"dataframe\">\n",
       "  <thead>\n",
       "    <tr style=\"text-align: right;\">\n",
       "      <th></th>\n",
       "      <th>instant</th>\n",
       "      <th>dteday</th>\n",
       "      <th>season</th>\n",
       "      <th>yr</th>\n",
       "      <th>mnth</th>\n",
       "      <th>holiday</th>\n",
       "      <th>weekday</th>\n",
       "      <th>workingday</th>\n",
       "      <th>weathersit</th>\n",
       "      <th>temp</th>\n",
       "      <th>...</th>\n",
       "      <th>mnth_4</th>\n",
       "      <th>mnth_5</th>\n",
       "      <th>mnth_6</th>\n",
       "      <th>mnth_7</th>\n",
       "      <th>mnth_8</th>\n",
       "      <th>mnth_9</th>\n",
       "      <th>mnth_10</th>\n",
       "      <th>mnth_11</th>\n",
       "      <th>mnth_12</th>\n",
       "      <th>cntscl</th>\n",
       "    </tr>\n",
       "  </thead>\n",
       "  <tbody>\n",
       "    <tr>\n",
       "      <th>0</th>\n",
       "      <td>1</td>\n",
       "      <td>2011-01-01</td>\n",
       "      <td>1</td>\n",
       "      <td>0</td>\n",
       "      <td>1</td>\n",
       "      <td>0</td>\n",
       "      <td>6</td>\n",
       "      <td>0</td>\n",
       "      <td>2</td>\n",
       "      <td>0.344167</td>\n",
       "      <td>...</td>\n",
       "      <td>False</td>\n",
       "      <td>False</td>\n",
       "      <td>False</td>\n",
       "      <td>False</td>\n",
       "      <td>False</td>\n",
       "      <td>False</td>\n",
       "      <td>False</td>\n",
       "      <td>False</td>\n",
       "      <td>False</td>\n",
       "      <td>0.110792</td>\n",
       "    </tr>\n",
       "    <tr>\n",
       "      <th>1</th>\n",
       "      <td>2</td>\n",
       "      <td>2011-01-02</td>\n",
       "      <td>1</td>\n",
       "      <td>0</td>\n",
       "      <td>1</td>\n",
       "      <td>0</td>\n",
       "      <td>0</td>\n",
       "      <td>0</td>\n",
       "      <td>2</td>\n",
       "      <td>0.363478</td>\n",
       "      <td>...</td>\n",
       "      <td>False</td>\n",
       "      <td>False</td>\n",
       "      <td>False</td>\n",
       "      <td>False</td>\n",
       "      <td>False</td>\n",
       "      <td>False</td>\n",
       "      <td>False</td>\n",
       "      <td>False</td>\n",
       "      <td>False</td>\n",
       "      <td>0.089623</td>\n",
       "    </tr>\n",
       "    <tr>\n",
       "      <th>2</th>\n",
       "      <td>3</td>\n",
       "      <td>2011-01-03</td>\n",
       "      <td>1</td>\n",
       "      <td>0</td>\n",
       "      <td>1</td>\n",
       "      <td>0</td>\n",
       "      <td>1</td>\n",
       "      <td>1</td>\n",
       "      <td>1</td>\n",
       "      <td>0.196364</td>\n",
       "      <td>...</td>\n",
       "      <td>False</td>\n",
       "      <td>False</td>\n",
       "      <td>False</td>\n",
       "      <td>False</td>\n",
       "      <td>False</td>\n",
       "      <td>False</td>\n",
       "      <td>False</td>\n",
       "      <td>False</td>\n",
       "      <td>False</td>\n",
       "      <td>0.152669</td>\n",
       "    </tr>\n",
       "    <tr>\n",
       "      <th>3</th>\n",
       "      <td>4</td>\n",
       "      <td>2011-01-04</td>\n",
       "      <td>1</td>\n",
       "      <td>0</td>\n",
       "      <td>1</td>\n",
       "      <td>0</td>\n",
       "      <td>2</td>\n",
       "      <td>1</td>\n",
       "      <td>1</td>\n",
       "      <td>0.200000</td>\n",
       "      <td>...</td>\n",
       "      <td>False</td>\n",
       "      <td>False</td>\n",
       "      <td>False</td>\n",
       "      <td>False</td>\n",
       "      <td>False</td>\n",
       "      <td>False</td>\n",
       "      <td>False</td>\n",
       "      <td>False</td>\n",
       "      <td>False</td>\n",
       "      <td>0.177174</td>\n",
       "    </tr>\n",
       "    <tr>\n",
       "      <th>4</th>\n",
       "      <td>5</td>\n",
       "      <td>2011-01-05</td>\n",
       "      <td>1</td>\n",
       "      <td>0</td>\n",
       "      <td>1</td>\n",
       "      <td>0</td>\n",
       "      <td>3</td>\n",
       "      <td>1</td>\n",
       "      <td>1</td>\n",
       "      <td>0.226957</td>\n",
       "      <td>...</td>\n",
       "      <td>False</td>\n",
       "      <td>False</td>\n",
       "      <td>False</td>\n",
       "      <td>False</td>\n",
       "      <td>False</td>\n",
       "      <td>False</td>\n",
       "      <td>False</td>\n",
       "      <td>False</td>\n",
       "      <td>False</td>\n",
       "      <td>0.181546</td>\n",
       "    </tr>\n",
       "  </tbody>\n",
       "</table>\n",
       "<p>5 rows × 39 columns</p>\n",
       "</div>"
      ],
      "text/plain": [
       "   instant      dteday  season  yr  mnth  holiday  weekday  workingday  \\\n",
       "0        1  2011-01-01       1   0     1        0        6           0   \n",
       "1        2  2011-01-02       1   0     1        0        0           0   \n",
       "2        3  2011-01-03       1   0     1        0        1           1   \n",
       "3        4  2011-01-04       1   0     1        0        2           1   \n",
       "4        5  2011-01-05       1   0     1        0        3           1   \n",
       "\n",
       "   weathersit      temp  ...  mnth_4  mnth_5  mnth_6  mnth_7  mnth_8  mnth_9  \\\n",
       "0           2  0.344167  ...   False   False   False   False   False   False   \n",
       "1           2  0.363478  ...   False   False   False   False   False   False   \n",
       "2           1  0.196364  ...   False   False   False   False   False   False   \n",
       "3           1  0.200000  ...   False   False   False   False   False   False   \n",
       "4           1  0.226957  ...   False   False   False   False   False   False   \n",
       "\n",
       "   mnth_10  mnth_11  mnth_12    cntscl  \n",
       "0    False    False    False  0.110792  \n",
       "1    False    False    False  0.089623  \n",
       "2    False    False    False  0.152669  \n",
       "3    False    False    False  0.177174  \n",
       "4    False    False    False  0.181546  \n",
       "\n",
       "[5 rows x 39 columns]"
      ]
     },
     "execution_count": 6,
     "metadata": {},
     "output_type": "execute_result"
    }
   ],
   "source": [
    "dataset = pd.merge(dataset, series, left_index=True, right_index=True)\n",
    "\n",
    "dataset.head()"
   ]
  },
  {
   "cell_type": "markdown",
   "metadata": {
    "id": "0kUxX2dzgqI2"
   },
   "source": [
    "### Data splitting"
   ]
  },
  {
   "cell_type": "code",
   "execution_count": 7,
   "metadata": {
    "id": "WA5t_XJ6vMwd"
   },
   "outputs": [
    {
     "name": "stdout",
     "output_type": "stream",
     "text": [
      "total, train, test, holdout: 731 631 50 50\n"
     ]
    }
   ],
   "source": [
    "number_of_test_data = 50\n",
    "number_of_holdout_data = 50\n",
    "number_of_training_data = len(dataset) - number_of_holdout_data - number_of_test_data\n",
    "print (\"total, train, test, holdout:\", len(dataset), number_of_training_data, number_of_test_data, number_of_holdout_data)"
   ]
  },
  {
   "cell_type": "code",
   "execution_count": 8,
   "metadata": {
    "colab": {
     "base_uri": "https://localhost:8080/",
     "height": 34
    },
    "id": "sdUZkjEOgqI4",
    "outputId": "a19493b2-5ce4-46f0-fb29-a0ca732f98a8"
   },
   "outputs": [],
   "source": [
    "\n",
    "\n",
    "datatrain = dataset[:number_of_training_data]\n",
    "datatest = dataset[-(number_of_test_data+number_of_holdout_data):-number_of_holdout_data]\n",
    "datahold = dataset[-number_of_holdout_data:]\n",
    "\n"
   ]
  },
  {
   "cell_type": "markdown",
   "metadata": {
    "colab": {
     "base_uri": "https://localhost:8080/",
     "height": 122
    },
    "id": "tA3fqtp_gqI6",
    "outputId": "5d48e2b5-c718-4e95-f1ed-0f0fdb301608"
   },
   "source": [
    "# Préparation de données 3D pour le modèle séquentiel"
   ]
  },
  {
   "cell_type": "code",
   "execution_count": 9,
   "metadata": {
    "colab": {
     "base_uri": "https://localhost:8080/",
     "height": 34
    },
    "id": "8xcZIPH-gqJC",
    "outputId": "b16daa85-69ef-461a-db7d-19ebf9bcbf55"
   },
   "outputs": [],
   "source": [
    "in_seq1 = array(datatrain['holiday'])\n",
    "in_seq2 = array(datatrain['workingday'])\n",
    "in_seq3 = array(datatrain['temp'])\n",
    "in_seq4 = array(datatrain['atemp'])\n",
    "in_seq5 = array(datatrain['hum'])\n",
    "in_seq6 = array(datatrain['windspeed'])\n",
    "in_seq7 = array(datatrain['weekday_0'])\n",
    "in_seq8 = array(datatrain['weekday_1'])\n",
    "in_seq9 = array(datatrain['weekday_2'])\n",
    "in_seq10 = array(datatrain['weekday_3'])\n",
    "in_seq11 = array(datatrain['weekday_4'])\n",
    "in_seq12 = array(datatrain['weekday_5'])\n",
    "in_seq13 = array(datatrain['weekday_6'])\n",
    "in_seq14 = array(datatrain['weathersit_1'])\n",
    "in_seq15 = array(datatrain['weathersit_2'])\n",
    "in_seq16 = array(datatrain['weathersit_3'])\n",
    "out_seq_train = array(datatrain['cntscl'])"
   ]
  },
  {
   "cell_type": "code",
   "execution_count": 10,
   "metadata": {
    "colab": {
     "base_uri": "https://localhost:8080/",
     "height": 34
    },
    "id": "zMQSRT3x4C6E",
    "outputId": "921cf274-e76a-411f-ceb0-b19e617ac38b"
   },
   "outputs": [],
   "source": [
    "in_seq1 = in_seq1.reshape((len(in_seq1), 1))\n",
    "in_seq2 = in_seq2.reshape((len(in_seq2), 1))\n",
    "in_seq3 = in_seq3.reshape((len(in_seq3), 1))\n",
    "in_seq4 = in_seq4.reshape((len(in_seq4), 1))\n",
    "in_seq5 = in_seq5.reshape((len(in_seq5), 1))\n",
    "in_seq6 = in_seq6.reshape((len(in_seq6), 1))\n",
    "in_seq7 = in_seq7.reshape((len(in_seq7), 1))\n",
    "in_seq8 = in_seq8.reshape((len(in_seq8), 1))\n",
    "in_seq9 = in_seq9.reshape((len(in_seq9), 1))\n",
    "in_seq10 = in_seq10.reshape((len(in_seq10), 1))\n",
    "in_seq11 = in_seq11.reshape((len(in_seq11), 1))\n",
    "in_seq12 = in_seq12.reshape((len(in_seq12), 1))\n",
    "in_seq13 = in_seq13.reshape((len(in_seq13), 1))\n",
    "in_seq14 = in_seq14.reshape((len(in_seq14), 1))\n",
    "in_seq15 = in_seq15.reshape((len(in_seq15), 1))\n",
    "in_seq16 = in_seq16.reshape((len(in_seq16), 1))\n",
    "out_seq_train = out_seq_train.reshape((len(out_seq_train), 1))"
   ]
  },
  {
   "cell_type": "code",
   "execution_count": 11,
   "metadata": {
    "id": "qIIsGA1DQU1q"
   },
   "outputs": [],
   "source": [
    "datatrain_feed = hstack((in_seq1, in_seq2, in_seq3, in_seq4, in_seq5, in_seq6, in_seq7, in_seq8, in_seq9, in_seq10, in_seq11, in_seq12, in_seq13, in_seq14, in_seq15, in_seq16, out_seq_train))"
   ]
  },
  {
   "cell_type": "code",
   "execution_count": 12,
   "metadata": {
    "colab": {
     "base_uri": "https://localhost:8080/",
     "height": 34
    },
    "id": "p1LaZfiNQdxJ",
    "outputId": "10bcd823-e389-4fb9-fd4a-6c9fcc4de545"
   },
   "outputs": [],
   "source": [
    "\n",
    "\n",
    "in_seq1 = array(datatest['holiday'])\n",
    "in_seq2 = array(datatest['workingday'])\n",
    "in_seq3 = array(datatest['temp'])\n",
    "in_seq4 = array(datatest['atemp'])\n",
    "in_seq5 = array(datatest['hum'])\n",
    "in_seq6 = array(datatest['windspeed'])\n",
    "in_seq7 = array(datatest['weekday_0'])\n",
    "in_seq8 = array(datatest['weekday_1'])\n",
    "in_seq9 = array(datatest['weekday_2'])\n",
    "in_seq10 = array(datatest['weekday_3'])\n",
    "in_seq11 = array(datatest['weekday_4'])\n",
    "in_seq12 = array(datatest['weekday_5'])\n",
    "in_seq13 = array(datatest['weekday_6'])\n",
    "in_seq14 = array(datatest['weathersit_1'])\n",
    "in_seq15 = array(datatest['weathersit_2'])\n",
    "in_seq16 = array(datatest['weathersit_3'])\n",
    "out_seq_test = array(datatest['cntscl'])\n",
    "\n"
   ]
  },
  {
   "cell_type": "code",
   "execution_count": 13,
   "metadata": {
    "colab": {
     "base_uri": "https://localhost:8080/",
     "height": 499
    },
    "id": "yx62p8SIRZWf",
    "outputId": "06ae9e7d-3406-4863-f13e-7aec44d69568"
   },
   "outputs": [],
   "source": [
    "\n",
    "\n",
    "in_seq1 = in_seq1.reshape((len(in_seq1), 1))\n",
    "in_seq2 = in_seq2.reshape((len(in_seq2), 1))\n",
    "in_seq3 = in_seq3.reshape((len(in_seq3), 1))\n",
    "in_seq4 = in_seq4.reshape((len(in_seq4), 1))\n",
    "in_seq5 = in_seq5.reshape((len(in_seq5), 1))\n",
    "in_seq6 = in_seq6.reshape((len(in_seq6), 1))\n",
    "in_seq7 = in_seq7.reshape((len(in_seq7), 1))\n",
    "in_seq8 = in_seq8.reshape((len(in_seq8), 1))\n",
    "in_seq9 = in_seq9.reshape((len(in_seq9), 1))\n",
    "in_seq10 = in_seq10.reshape((len(in_seq10), 1))\n",
    "in_seq11 = in_seq11.reshape((len(in_seq11), 1))\n",
    "in_seq12 = in_seq12.reshape((len(in_seq12), 1))\n",
    "in_seq13 = in_seq13.reshape((len(in_seq13), 1))\n",
    "in_seq14 = in_seq14.reshape((len(in_seq14), 1))\n",
    "in_seq15 = in_seq15.reshape((len(in_seq15), 1))\n",
    "in_seq16 = in_seq16.reshape((len(in_seq16), 1))\n",
    "out_seq_test = out_seq_test.reshape((len(out_seq_test), 1))\n",
    "\n",
    "\n"
   ]
  },
  {
   "cell_type": "code",
   "execution_count": 14,
   "metadata": {
    "colab": {
     "base_uri": "https://localhost:8080/",
     "height": 34
    },
    "id": "gA4UbecoRFY9",
    "outputId": "b10eb918-0207-452a-cdbd-9f70110134cd"
   },
   "outputs": [],
   "source": [
    "datatest_feed = hstack((in_seq1, in_seq2, in_seq3, in_seq4, in_seq5, in_seq6, in_seq7, in_seq8, in_seq9, in_seq10, in_seq11, in_seq12, in_seq13, in_seq14, in_seq15, in_seq16, out_seq_test))"
   ]
  },
  {
   "cell_type": "code",
   "execution_count": 15,
   "metadata": {
    "id": "6QI3OU5iIWHf"
   },
   "outputs": [],
   "source": [
    "\n",
    "\n",
    "in_seq1 = array(datahold['holiday'])\n",
    "in_seq2 = array(datahold['workingday'])\n",
    "in_seq3 = array(datahold['temp'])\n",
    "in_seq4 = array(datahold['atemp'])\n",
    "in_seq5 = array(datahold['hum'])\n",
    "in_seq6 = array(datahold['windspeed'])\n",
    "in_seq7 = array(datahold['weekday_0'])\n",
    "in_seq8 = array(datahold['weekday_1'])\n",
    "in_seq9 = array(datahold['weekday_2'])\n",
    "in_seq10 = array(datahold['weekday_3'])\n",
    "in_seq11 = array(datahold['weekday_4'])\n",
    "in_seq12 = array(datahold['weekday_5'])\n",
    "in_seq13 = array(datahold['weekday_6'])\n",
    "in_seq14 = array(datahold['weathersit_1'])\n",
    "in_seq15 = array(datahold['weathersit_2'])\n",
    "in_seq16 = array(datahold['weathersit_3'])\n",
    "out_seq_hold = array(datahold['cntscl'])\n",
    "\n"
   ]
  },
  {
   "cell_type": "code",
   "execution_count": 16,
   "metadata": {
    "colab": {
     "base_uri": "https://localhost:8080/",
     "height": 34
    },
    "id": "AOJK7ccnIeqU",
    "outputId": "764c66bb-0647-4e69-aea5-d11530765f26"
   },
   "outputs": [],
   "source": [
    "\n",
    "\n",
    "in_seq1 = in_seq1.reshape((len(in_seq1), 1))\n",
    "in_seq2 = in_seq2.reshape((len(in_seq2), 1))\n",
    "in_seq3 = in_seq3.reshape((len(in_seq3), 1))\n",
    "in_seq4 = in_seq4.reshape((len(in_seq4), 1))\n",
    "in_seq5 = in_seq5.reshape((len(in_seq5), 1))\n",
    "in_seq6 = in_seq6.reshape((len(in_seq6), 1))\n",
    "in_seq7 = in_seq7.reshape((len(in_seq7), 1))\n",
    "in_seq8 = in_seq8.reshape((len(in_seq8), 1))\n",
    "in_seq9 = in_seq9.reshape((len(in_seq9), 1))\n",
    "in_seq10 = in_seq10.reshape((len(in_seq10), 1))\n",
    "in_seq11 = in_seq11.reshape((len(in_seq11), 1))\n",
    "in_seq12 = in_seq12.reshape((len(in_seq12), 1))\n",
    "in_seq13 = in_seq13.reshape((len(in_seq13), 1))\n",
    "in_seq14 = in_seq14.reshape((len(in_seq14), 1))\n",
    "in_seq15 = in_seq15.reshape((len(in_seq15), 1))\n",
    "in_seq16 = in_seq16.reshape((len(in_seq16), 1))\n",
    "out_seq_hold = out_seq_hold.reshape((len(out_seq_hold), 1))\n",
    "\n"
   ]
  },
  {
   "cell_type": "code",
   "execution_count": 17,
   "metadata": {
    "colab": {
     "base_uri": "https://localhost:8080/",
     "height": 499
    },
    "id": "lUFq7pGrJ1R4",
    "outputId": "be918237-efff-4638-fd86-fb97c958fd96"
   },
   "outputs": [],
   "source": [
    "\n",
    "\n",
    "datahold_feed = hstack((in_seq1, in_seq2, in_seq3, in_seq4, in_seq5, in_seq6, in_seq7, in_seq8, in_seq9, in_seq10, in_seq11, in_seq12, in_seq13, in_seq14, in_seq15, in_seq16, out_seq_hold))\n",
    "\n"
   ]
  },
  {
   "cell_type": "code",
   "execution_count": 18,
   "metadata": {
    "colab": {
     "base_uri": "https://localhost:8080/",
     "height": 34
    },
    "id": "1saLt8piI2pz",
    "outputId": "8d242d05-5786-445a-97ba-cababee0ee86"
   },
   "outputs": [],
   "source": [
    "\n",
    "\n",
    "n_features = datatrain_feed.shape[1]\n",
    "n_input = 10\n",
    "generator_train = TimeseriesGenerator(datatrain_feed, out_seq_train, length=n_input, batch_size=len(datatrain_feed))\n",
    "\n"
   ]
  },
  {
   "cell_type": "code",
   "execution_count": 19,
   "metadata": {
    "colab": {
     "base_uri": "https://localhost:8080/",
     "height": 499
    },
    "id": "x3khIT_YH-Kt",
    "outputId": "60f00fe5-165e-406e-9f5a-25e4b907dc24"
   },
   "outputs": [],
   "source": [
    "generator_test = TimeseriesGenerator(datatest_feed, out_seq_test, length=n_input, batch_size=1)"
   ]
  },
  {
   "cell_type": "code",
   "execution_count": 20,
   "metadata": {
    "colab": {
     "base_uri": "https://localhost:8080/",
     "height": 34
    },
    "id": "WJJcT-mZh915",
    "outputId": "facfca2f-788a-43d7-f986-fab5145ba24b"
   },
   "outputs": [],
   "source": [
    "generator_hold = TimeseriesGenerator(datahold_feed, out_seq_hold, length=n_input, batch_size=1)"
   ]
  },
  {
   "cell_type": "markdown",
   "metadata": {
    "id": "AiqLkXbV7Koz"
   },
   "source": [
    "### Modélisation et entrainement"
   ]
  },
  {
   "cell_type": "code",
   "execution_count": 21,
   "metadata": {
    "colab": {
     "base_uri": "https://localhost:8080/",
     "height": 314
    },
    "id": "68CpMK9A7FB1",
    "outputId": "42bfacfb-8e2a-4adf-b14e-19a93f19ad3b"
   },
   "outputs": [
    {
     "name": "stdout",
     "output_type": "stream",
     "text": [
      "timesteps, features: 10 17\n"
     ]
    }
   ],
   "source": [
    "\n",
    "\n",
    "print(\"timesteps, features:\", n_input, n_features)\n",
    "\n"
   ]
  },
  {
   "cell_type": "code",
   "execution_count": 22,
   "metadata": {
    "id": "S-35S40P1tsz"
   },
   "outputs": [
    {
     "name": "stderr",
     "output_type": "stream",
     "text": [
      "C:\\Users\\twentz\\AppData\\Roaming\\Python\\Python39\\site-packages\\keras\\optimizers\\legacy\\adam.py:117: UserWarning: The `lr` argument is deprecated, use `learning_rate` instead.\n",
      "  super().__init__(name, **kwargs)\n"
     ]
    }
   ],
   "source": [
    "model = Sequential()\n",
    "\n",
    "model.add(SimpleRNN(4, activation='relu', input_shape=(n_input, n_features), return_sequences = False))\n",
    "model.add(Dense(1, activation='relu'))\n",
    "\n",
    "adam = Adam(lr=0.0001)\n",
    "model.compile(optimizer=adam, loss='mse')"
   ]
  },
  {
   "cell_type": "code",
   "execution_count": 23,
   "metadata": {
    "colab": {
     "base_uri": "https://localhost:8080/",
     "height": 227
    },
    "id": "eBqseBkogqJF",
    "outputId": "f2523103-b400-4dbe-e601-90578da546a7"
   },
   "outputs": [
    {
     "name": "stdout",
     "output_type": "stream",
     "text": [
      "Model: \"sequential\"\n",
      "_________________________________________________________________\n",
      " Layer (type)                Output Shape              Param #   \n",
      "=================================================================\n",
      " simple_rnn (SimpleRNN)      (None, 4)                 88        \n",
      "                                                                 \n",
      " dense (Dense)               (None, 1)                 5         \n",
      "                                                                 \n",
      "=================================================================\n",
      "Total params: 93\n",
      "Trainable params: 93\n",
      "Non-trainable params: 0\n",
      "_________________________________________________________________\n"
     ]
    }
   ],
   "source": [
    "model.summary()"
   ]
  },
  {
   "cell_type": "code",
   "execution_count": 24,
   "metadata": {
    "colab": {
     "base_uri": "https://localhost:8080/",
     "height": 944
    },
    "id": "ghB6htZngqJI",
    "outputId": "bdfbac68-e892-400d-e4f9-4467741ad8e6"
   },
   "outputs": [
    {
     "name": "stderr",
     "output_type": "stream",
     "text": [
      "C:\\Users\\twentz\\AppData\\Local\\Temp\\ipykernel_24136\\1338044232.py:1: UserWarning: `Model.fit_generator` is deprecated and will be removed in a future version. Please use `Model.fit`, which supports generators.\n",
      "  score = model.fit_generator(generator_train, epochs=3000, verbose=0, validation_data=generator_test)\n"
     ]
    }
   ],
   "source": [
    "score = model.fit_generator(generator_train, epochs=3000, verbose=0, validation_data=generator_test)"
   ]
  },
  {
   "cell_type": "code",
   "execution_count": 25,
   "metadata": {
    "colab": {
     "base_uri": "https://localhost:8080/",
     "height": 499
    },
    "id": "uVWOMO4c6lMJ",
    "outputId": "2ff7ab00-2227-4719-cd99-40413b2d8aa9"
   },
   "outputs": [
    {
     "data": {
      "image/png": "[encoded data removed]",
      "text/plain": [
       "<Figure size 1000x500 with 1 Axes>"
      ]
     },
     "metadata": {},
     "output_type": "display_data"
    }
   ],
   "source": [
    "\n",
    "\n",
    "losses = score.history['loss']\n",
    "val_losses = score.history['val_loss']\n",
    "plt.figure(figsize=(10,5))\n",
    "plt.plot(losses, label=\"trainset\")\n",
    "plt.plot(val_losses, label=\"testset\")\n",
    "plt.legend(bbox_to_anchor=(1.05, 1), loc=2, borderaxespad=0.)\n",
    "plt.show()\n",
    "\n"
   ]
  },
  {
   "cell_type": "markdown",
   "metadata": {
    "colab": {
     "base_uri": "https://localhost:8080/",
     "height": 499
    },
    "id": "9tWWb1zS3AU-",
    "outputId": "37d66dc9-9dc9-4ee5-fc74-117c97b6dc56"
   },
   "source": [
    "# Prédictions sur les données de test"
   ]
  },
  {
   "cell_type": "code",
   "execution_count": 27,
   "metadata": {
    "colab": {
     "base_uri": "https://localhost:8080/",
     "height": 34
    },
    "id": "DHWMcQ9AgqJM",
    "outputId": "441a94f7-c437-439a-a537-47f1fd59aa03"
   },
   "outputs": [
    {
     "name": "stdout",
     "output_type": "stream",
     "text": [
      "1/1 - 0s - 20ms/epoch - 20ms/step\n",
      "1/1 - 0s - 18ms/epoch - 18ms/step\n",
      "1/1 - 0s - 20ms/epoch - 20ms/step\n",
      "1/1 - 0s - 10ms/epoch - 10ms/step\n",
      "1/1 - 0s - 20ms/epoch - 20ms/step\n",
      "1/1 - 0s - 12ms/epoch - 12ms/step\n",
      "1/1 - 0s - 10ms/epoch - 10ms/step\n",
      "1/1 - 0s - 10ms/epoch - 10ms/step\n",
      "1/1 - 0s - 20ms/epoch - 20ms/step\n",
      "1/1 - 0s - 12ms/epoch - 12ms/step\n",
      "1/1 - 0s - 12ms/epoch - 12ms/step\n",
      "1/1 - 0s - 18ms/epoch - 18ms/step\n",
      "1/1 - 0s - 20ms/epoch - 20ms/step\n",
      "1/1 - 0s - 20ms/epoch - 20ms/step\n",
      "1/1 - 0s - 20ms/epoch - 20ms/step\n",
      "1/1 - 0s - 20ms/epoch - 20ms/step\n",
      "1/1 - 0s - 18ms/epoch - 18ms/step\n",
      "1/1 - 0s - 18ms/epoch - 18ms/step\n",
      "1/1 - 0s - 18ms/epoch - 18ms/step\n",
      "1/1 - 0s - 10ms/epoch - 10ms/step\n",
      "1/1 - 0s - 10ms/epoch - 10ms/step\n",
      "1/1 - 0s - 12ms/epoch - 12ms/step\n",
      "1/1 - 0s - 18ms/epoch - 18ms/step\n",
      "1/1 - 0s - 10ms/epoch - 10ms/step\n",
      "1/1 - 0s - 12ms/epoch - 12ms/step\n",
      "1/1 - 0s - 18ms/epoch - 18ms/step\n",
      "1/1 - 0s - 10ms/epoch - 10ms/step\n",
      "1/1 - 0s - 10ms/epoch - 10ms/step\n",
      "1/1 - 0s - 10ms/epoch - 10ms/step\n",
      "1/1 - 0s - 12ms/epoch - 12ms/step\n",
      "1/1 - 0s - 18ms/epoch - 18ms/step\n",
      "1/1 - 0s - 10ms/epoch - 10ms/step\n",
      "1/1 - 0s - 20ms/epoch - 20ms/step\n",
      "1/1 - 0s - 10ms/epoch - 10ms/step\n",
      "1/1 - 0s - 10ms/epoch - 10ms/step\n",
      "1/1 - 0s - 16ms/epoch - 16ms/step\n",
      "1/1 - 0s - 16ms/epoch - 16ms/step\n",
      "1/1 - 0s - 16ms/epoch - 16ms/step\n",
      "1/1 - 0s - 16ms/epoch - 16ms/step\n",
      "1/1 - 0s - 16ms/epoch - 16ms/step\n"
     ]
    }
   ],
   "source": [
    "\n",
    "\n",
    "df_result = pd.DataFrame({'Actual' : [], 'Prediction' : []})\n",
    "\n",
    "for i in range(len(generator_test)):\n",
    "    x, y = generator_test[i]\n",
    "    x_input = array(x).reshape((1, n_input, n_features))\n",
    "    yhat = model.predict(x_input, verbose=2)\n",
    "    #df_result = df_result.append({'Actual': scaler.inverse_transform(y)[0][0], 'Prediction': scaler.inverse_transform(yhat)[0][0]}, ignore_index=True)\n",
    "    df_result = pd.concat([df_result, pd.DataFrame([{'Actual': scaler.inverse_transform(y)[0][0], 'Prediction': scaler.inverse_transform(yhat)[0][0]}])], ignore_index=True)\n",
    "df_result['Diff'] = 100 * (df_result['Prediction'] - df_result['Actual']) / df_result['Actual']\n"
   ]
  },
  {
   "cell_type": "code",
   "execution_count": 28,
   "metadata": {
    "colab": {
     "base_uri": "https://localhost:8080/"
    },
    "id": "jZYz7XvB1xWX",
    "outputId": "0574cb76-d2b6-4617-d618-05a4dd800d12"
   },
   "outputs": [
    {
     "data": {
      "text/html": [
       "<div>\n",
       "<style scoped>\n",
       "    .dataframe tbody tr th:only-of-type {\n",
       "        vertical-align: middle;\n",
       "    }\n",
       "\n",
       "    .dataframe tbody tr th {\n",
       "        vertical-align: top;\n",
       "    }\n",
       "\n",
       "    .dataframe thead th {\n",
       "        text-align: right;\n",
       "    }\n",
       "</style>\n",
       "<table border=\"1\" class=\"dataframe\">\n",
       "  <thead>\n",
       "    <tr style=\"text-align: right;\">\n",
       "      <th></th>\n",
       "      <th>Actual</th>\n",
       "      <th>Prediction</th>\n",
       "      <th>Diff</th>\n",
       "    </tr>\n",
       "  </thead>\n",
       "  <tbody>\n",
       "    <tr>\n",
       "      <th>0</th>\n",
       "      <td>7572.0</td>\n",
       "      <td>5074.559082</td>\n",
       "      <td>-32.982579</td>\n",
       "    </tr>\n",
       "    <tr>\n",
       "      <th>1</th>\n",
       "      <td>7328.0</td>\n",
       "      <td>4979.410645</td>\n",
       "      <td>-32.049527</td>\n",
       "    </tr>\n",
       "    <tr>\n",
       "      <th>2</th>\n",
       "      <td>8156.0</td>\n",
       "      <td>4952.090820</td>\n",
       "      <td>-39.282849</td>\n",
       "    </tr>\n",
       "    <tr>\n",
       "      <th>3</th>\n",
       "      <td>7965.0</td>\n",
       "      <td>6346.429688</td>\n",
       "      <td>-20.321033</td>\n",
       "    </tr>\n",
       "    <tr>\n",
       "      <th>4</th>\n",
       "      <td>3510.0</td>\n",
       "      <td>5994.384277</td>\n",
       "      <td>70.780179</td>\n",
       "    </tr>\n",
       "    <tr>\n",
       "      <th>5</th>\n",
       "      <td>5478.0</td>\n",
       "      <td>4403.952148</td>\n",
       "      <td>-19.606569</td>\n",
       "    </tr>\n",
       "    <tr>\n",
       "      <th>6</th>\n",
       "      <td>6392.0</td>\n",
       "      <td>3658.598877</td>\n",
       "      <td>-42.762846</td>\n",
       "    </tr>\n",
       "    <tr>\n",
       "      <th>7</th>\n",
       "      <td>7691.0</td>\n",
       "      <td>4744.680176</td>\n",
       "      <td>-38.308670</td>\n",
       "    </tr>\n",
       "    <tr>\n",
       "      <th>8</th>\n",
       "      <td>7570.0</td>\n",
       "      <td>5949.911621</td>\n",
       "      <td>-21.401432</td>\n",
       "    </tr>\n",
       "    <tr>\n",
       "      <th>9</th>\n",
       "      <td>7282.0</td>\n",
       "      <td>6116.813477</td>\n",
       "      <td>-16.000914</td>\n",
       "    </tr>\n",
       "    <tr>\n",
       "      <th>10</th>\n",
       "      <td>7109.0</td>\n",
       "      <td>5767.014160</td>\n",
       "      <td>-18.877280</td>\n",
       "    </tr>\n",
       "    <tr>\n",
       "      <th>11</th>\n",
       "      <td>6639.0</td>\n",
       "      <td>5724.046875</td>\n",
       "      <td>-13.781490</td>\n",
       "    </tr>\n",
       "    <tr>\n",
       "      <th>12</th>\n",
       "      <td>5875.0</td>\n",
       "      <td>4734.697754</td>\n",
       "      <td>-19.409400</td>\n",
       "    </tr>\n",
       "    <tr>\n",
       "      <th>13</th>\n",
       "      <td>7534.0</td>\n",
       "      <td>5055.620605</td>\n",
       "      <td>-32.895930</td>\n",
       "    </tr>\n",
       "    <tr>\n",
       "      <th>14</th>\n",
       "      <td>7461.0</td>\n",
       "      <td>5959.594727</td>\n",
       "      <td>-20.123379</td>\n",
       "    </tr>\n",
       "    <tr>\n",
       "      <th>15</th>\n",
       "      <td>7509.0</td>\n",
       "      <td>6081.013184</td>\n",
       "      <td>-19.017004</td>\n",
       "    </tr>\n",
       "    <tr>\n",
       "      <th>16</th>\n",
       "      <td>5424.0</td>\n",
       "      <td>5543.983398</td>\n",
       "      <td>2.212083</td>\n",
       "    </tr>\n",
       "    <tr>\n",
       "      <th>17</th>\n",
       "      <td>8090.0</td>\n",
       "      <td>5051.463379</td>\n",
       "      <td>-37.559167</td>\n",
       "    </tr>\n",
       "    <tr>\n",
       "      <th>18</th>\n",
       "      <td>6824.0</td>\n",
       "      <td>5853.445312</td>\n",
       "      <td>-14.222665</td>\n",
       "    </tr>\n",
       "    <tr>\n",
       "      <th>19</th>\n",
       "      <td>7058.0</td>\n",
       "      <td>5400.159180</td>\n",
       "      <td>-23.488819</td>\n",
       "    </tr>\n",
       "    <tr>\n",
       "      <th>20</th>\n",
       "      <td>7466.0</td>\n",
       "      <td>6182.069824</td>\n",
       "      <td>-17.197029</td>\n",
       "    </tr>\n",
       "    <tr>\n",
       "      <th>21</th>\n",
       "      <td>7693.0</td>\n",
       "      <td>6328.320801</td>\n",
       "      <td>-17.739233</td>\n",
       "    </tr>\n",
       "    <tr>\n",
       "      <th>22</th>\n",
       "      <td>7359.0</td>\n",
       "      <td>6610.671875</td>\n",
       "      <td>-10.168883</td>\n",
       "    </tr>\n",
       "    <tr>\n",
       "      <th>23</th>\n",
       "      <td>7444.0</td>\n",
       "      <td>5637.171387</td>\n",
       "      <td>-24.272281</td>\n",
       "    </tr>\n",
       "    <tr>\n",
       "      <th>24</th>\n",
       "      <td>7852.0</td>\n",
       "      <td>5864.313965</td>\n",
       "      <td>-25.314392</td>\n",
       "    </tr>\n",
       "    <tr>\n",
       "      <th>25</th>\n",
       "      <td>4459.0</td>\n",
       "      <td>6211.069336</td>\n",
       "      <td>39.292876</td>\n",
       "    </tr>\n",
       "    <tr>\n",
       "      <th>26</th>\n",
       "      <td>22.0</td>\n",
       "      <td>3929.697021</td>\n",
       "      <td>17762.259189</td>\n",
       "    </tr>\n",
       "    <tr>\n",
       "      <th>27</th>\n",
       "      <td>1096.0</td>\n",
       "      <td>351.093292</td>\n",
       "      <td>-67.965940</td>\n",
       "    </tr>\n",
       "    <tr>\n",
       "      <th>28</th>\n",
       "      <td>5566.0</td>\n",
       "      <td>901.088257</td>\n",
       "      <td>-83.810847</td>\n",
       "    </tr>\n",
       "    <tr>\n",
       "      <th>29</th>\n",
       "      <td>5986.0</td>\n",
       "      <td>4870.152344</td>\n",
       "      <td>-18.640957</td>\n",
       "    </tr>\n",
       "    <tr>\n",
       "      <th>30</th>\n",
       "      <td>5847.0</td>\n",
       "      <td>5653.694824</td>\n",
       "      <td>-3.306057</td>\n",
       "    </tr>\n",
       "    <tr>\n",
       "      <th>31</th>\n",
       "      <td>5138.0</td>\n",
       "      <td>5162.166992</td>\n",
       "      <td>0.470358</td>\n",
       "    </tr>\n",
       "    <tr>\n",
       "      <th>32</th>\n",
       "      <td>5107.0</td>\n",
       "      <td>4894.966309</td>\n",
       "      <td>-4.151825</td>\n",
       "    </tr>\n",
       "    <tr>\n",
       "      <th>33</th>\n",
       "      <td>5259.0</td>\n",
       "      <td>4741.730469</td>\n",
       "      <td>-9.835891</td>\n",
       "    </tr>\n",
       "    <tr>\n",
       "      <th>34</th>\n",
       "      <td>5686.0</td>\n",
       "      <td>5195.050781</td>\n",
       "      <td>-8.634351</td>\n",
       "    </tr>\n",
       "    <tr>\n",
       "      <th>35</th>\n",
       "      <td>5035.0</td>\n",
       "      <td>4963.038574</td>\n",
       "      <td>-1.429224</td>\n",
       "    </tr>\n",
       "    <tr>\n",
       "      <th>36</th>\n",
       "      <td>5315.0</td>\n",
       "      <td>4473.825195</td>\n",
       "      <td>-15.826431</td>\n",
       "    </tr>\n",
       "    <tr>\n",
       "      <th>37</th>\n",
       "      <td>5992.0</td>\n",
       "      <td>4536.323242</td>\n",
       "      <td>-24.293671</td>\n",
       "    </tr>\n",
       "    <tr>\n",
       "      <th>38</th>\n",
       "      <td>6536.0</td>\n",
       "      <td>5051.174316</td>\n",
       "      <td>-22.717651</td>\n",
       "    </tr>\n",
       "    <tr>\n",
       "      <th>39</th>\n",
       "      <td>6852.0</td>\n",
       "      <td>5240.972656</td>\n",
       "      <td>-23.511783</td>\n",
       "    </tr>\n",
       "  </tbody>\n",
       "</table>\n",
       "</div>"
      ],
      "text/plain": [
       "    Actual   Prediction          Diff\n",
       "0   7572.0  5074.559082    -32.982579\n",
       "1   7328.0  4979.410645    -32.049527\n",
       "2   8156.0  4952.090820    -39.282849\n",
       "3   7965.0  6346.429688    -20.321033\n",
       "4   3510.0  5994.384277     70.780179\n",
       "5   5478.0  4403.952148    -19.606569\n",
       "6   6392.0  3658.598877    -42.762846\n",
       "7   7691.0  4744.680176    -38.308670\n",
       "8   7570.0  5949.911621    -21.401432\n",
       "9   7282.0  6116.813477    -16.000914\n",
       "10  7109.0  5767.014160    -18.877280\n",
       "11  6639.0  5724.046875    -13.781490\n",
       "12  5875.0  4734.697754    -19.409400\n",
       "13  7534.0  5055.620605    -32.895930\n",
       "14  7461.0  5959.594727    -20.123379\n",
       "15  7509.0  6081.013184    -19.017004\n",
       "16  5424.0  5543.983398      2.212083\n",
       "17  8090.0  5051.463379    -37.559167\n",
       "18  6824.0  5853.445312    -14.222665\n",
       "19  7058.0  5400.159180    -23.488819\n",
       "20  7466.0  6182.069824    -17.197029\n",
       "21  7693.0  6328.320801    -17.739233\n",
       "22  7359.0  6610.671875    -10.168883\n",
       "23  7444.0  5637.171387    -24.272281\n",
       "24  7852.0  5864.313965    -25.314392\n",
       "25  4459.0  6211.069336     39.292876\n",
       "26    22.0  3929.697021  17762.259189\n",
       "27  1096.0   351.093292    -67.965940\n",
       "28  5566.0   901.088257    -83.810847\n",
       "29  5986.0  4870.152344    -18.640957\n",
       "30  5847.0  5653.694824     -3.306057\n",
       "31  5138.0  5162.166992      0.470358\n",
       "32  5107.0  4894.966309     -4.151825\n",
       "33  5259.0  4741.730469     -9.835891\n",
       "34  5686.0  5195.050781     -8.634351\n",
       "35  5035.0  4963.038574     -1.429224\n",
       "36  5315.0  4473.825195    -15.826431\n",
       "37  5992.0  4536.323242    -24.293671\n",
       "38  6536.0  5051.174316    -22.717651\n",
       "39  6852.0  5240.972656    -23.511783"
      ]
     },
     "execution_count": 28,
     "metadata": {},
     "output_type": "execute_result"
    }
   ],
   "source": [
    "df_result"
   ]
  },
  {
   "cell_type": "markdown",
   "metadata": {
    "id": "DXOSgrgtJF6V"
   },
   "source": [
    "### Calcul de la précision de prédiction"
   ]
  },
  {
   "cell_type": "code",
   "execution_count": 29,
   "metadata": {
    "colab": {
     "base_uri": "https://localhost:8080/"
    },
    "id": "2ypqaKFYH0k4",
    "outputId": "cbf2a2c7-0682-45a3-9c96-d5254ee881c9"
   },
   "outputs": [
    {
     "name": "stdout",
     "output_type": "stream",
     "text": [
      "mean:  6254.425\n",
      "mae: 1564.0785301208496\n",
      "mae/mean ratio:  25.007551135729496 %\n",
      "correctness:  74.9924488642705 %\n"
     ]
    }
   ],
   "source": [
    "mean = df_result['Actual'].mean()\n",
    "mae = (df_result['Actual'] - df_result['Prediction']).abs().mean()\n",
    "\n",
    "print(\"mean: \", mean)\n",
    "print(\"mae:\", mae)\n",
    "print(\"mae/mean ratio: \", 100*mae/mean,\"%\")\n",
    "print(\"correctness: \", 100 - 100*mae/mean,\"%\")"
   ]
  },
  {
   "cell_type": "code",
   "execution_count": 30,
   "metadata": {
    "colab": {
     "base_uri": "https://localhost:8080/"
    },
    "id": "SmKLiMPXJCJd",
    "outputId": "2735b947-60ff-4d83-f9f8-8960c7113724"
   },
   "outputs": [
    {
     "data": {
      "image/png": "[encoded data removed]",
      "text/plain": [
       "<Figure size 1500x1000 with 1 Axes>"
      ]
     },
     "metadata": {},
     "output_type": "display_data"
    }
   ],
   "source": [
    "\n",
    "\n",
    "plt.figure(figsize=(15,10))\n",
    "plt.plot(df_result['Actual'], color='blue')\n",
    "plt.plot(df_result['Prediction'], color='red')\n",
    "plt.show()\n",
    "\n"
   ]
  },
  {
   "cell_type": "markdown",
   "metadata": {
    "id": "XdPn5-0WFQxZ"
   },
   "source": [
    "## Prédiction pour les data exterieures au modèle"
   ]
  },
  {
   "cell_type": "code",
   "execution_count": 31,
   "metadata": {
    "colab": {
     "base_uri": "https://localhost:8080/",
     "height": 499
    },
    "id": "8dz1upaGEj32",
    "outputId": "6dac8032-af0a-4039-95b2-068fe6de37e0"
   },
   "outputs": [
    {
     "name": "stdout",
     "output_type": "stream",
     "text": [
      "1/1 - 0s - 16ms/epoch - 16ms/step\n",
      "1/1 - 0s - 16ms/epoch - 16ms/step\n",
      "1/1 - 0s - 22ms/epoch - 22ms/step\n",
      "1/1 - 0s - 16ms/epoch - 16ms/step\n",
      "1/1 - 0s - 16ms/epoch - 16ms/step\n",
      "1/1 - 0s - 16ms/epoch - 16ms/step\n",
      "1/1 - 0s - 16ms/epoch - 16ms/step\n",
      "1/1 - 0s - 16ms/epoch - 16ms/step\n",
      "1/1 - 0s - 16ms/epoch - 16ms/step\n",
      "1/1 - 0s - 16ms/epoch - 16ms/step\n",
      "1/1 - 0s - 7ms/epoch - 7ms/step\n",
      "1/1 - 0s - 0s/epoch - 0s/step\n",
      "1/1 - 0s - 16ms/epoch - 16ms/step\n",
      "1/1 - 0s - 16ms/epoch - 16ms/step\n",
      "1/1 - 0s - 16ms/epoch - 16ms/step\n",
      "1/1 - 0s - 16ms/epoch - 16ms/step\n",
      "1/1 - 0s - 16ms/epoch - 16ms/step\n",
      "1/1 - 0s - 16ms/epoch - 16ms/step\n",
      "1/1 - 0s - 16ms/epoch - 16ms/step\n",
      "1/1 - 0s - 16ms/epoch - 16ms/step\n",
      "1/1 - 0s - 16ms/epoch - 16ms/step\n",
      "1/1 - 0s - 7ms/epoch - 7ms/step\n",
      "1/1 - 0s - 0s/epoch - 0s/step\n",
      "1/1 - 0s - 17ms/epoch - 17ms/step\n",
      "1/1 - 0s - 16ms/epoch - 16ms/step\n",
      "1/1 - 0s - 16ms/epoch - 16ms/step\n",
      "1/1 - 0s - 16ms/epoch - 16ms/step\n",
      "1/1 - 0s - 16ms/epoch - 16ms/step\n",
      "1/1 - 0s - 16ms/epoch - 16ms/step\n",
      "1/1 - 0s - 6ms/epoch - 6ms/step\n",
      "1/1 - 0s - 17ms/epoch - 17ms/step\n",
      "1/1 - 0s - 16ms/epoch - 16ms/step\n",
      "1/1 - 0s - 16ms/epoch - 16ms/step\n",
      "1/1 - 0s - 16ms/epoch - 16ms/step\n",
      "1/1 - 0s - 0s/epoch - 0s/step\n",
      "1/1 - 0s - 16ms/epoch - 16ms/step\n",
      "1/1 - 0s - 15ms/epoch - 15ms/step\n",
      "1/1 - 0s - 22ms/epoch - 22ms/step\n",
      "1/1 - 0s - 16ms/epoch - 16ms/step\n",
      "1/1 - 0s - 16ms/epoch - 16ms/step\n"
     ]
    }
   ],
   "source": [
    "df_result = pd.DataFrame({'Actual' : [], 'Prediction' : []})\n",
    "\n",
    "for i in range(len(generator_hold)):\n",
    "    x, y = generator_hold[i]\n",
    "    x_input = array(x).reshape((1, n_input, n_features))\n",
    "    yhat = model.predict(x_input, verbose=2)\n",
    "    #df_result = df_result.append({'Actual': scaler.inverse_transform(y)[0][0], 'Prediction': scaler.inverse_transform(yhat)[0][0]}, ignore_index=True)\n",
    "    df_result = pd.concat([df_result, pd.DataFrame([{'Actual': scaler.inverse_transform(y)[0][0], 'Prediction': scaler.inverse_transform(yhat)[0][0]}])], ignore_index=True)\n",
    "df_result['Diff'] = 100 * (df_result['Prediction'] - df_result['Actual']) / df_result['Actual']"
   ]
  },
  {
   "cell_type": "code",
   "execution_count": 32,
   "metadata": {
    "colab": {
     "base_uri": "https://localhost:8080/",
     "height": 499
    },
    "id": "pPwMaJTbHmx7",
    "outputId": "0b9765e7-2e58-417c-893f-07b941de8fe9"
   },
   "outputs": [
    {
     "data": {
      "text/html": [
       "<div>\n",
       "<style scoped>\n",
       "    .dataframe tbody tr th:only-of-type {\n",
       "        vertical-align: middle;\n",
       "    }\n",
       "\n",
       "    .dataframe tbody tr th {\n",
       "        vertical-align: top;\n",
       "    }\n",
       "\n",
       "    .dataframe thead th {\n",
       "        text-align: right;\n",
       "    }\n",
       "</style>\n",
       "<table border=\"1\" class=\"dataframe\">\n",
       "  <thead>\n",
       "    <tr style=\"text-align: right;\">\n",
       "      <th></th>\n",
       "      <th>Actual</th>\n",
       "      <th>Prediction</th>\n",
       "      <th>Diff</th>\n",
       "    </tr>\n",
       "  </thead>\n",
       "  <tbody>\n",
       "    <tr>\n",
       "      <th>0</th>\n",
       "      <td>2425.0</td>\n",
       "      <td>5330.867676</td>\n",
       "      <td>119.829595</td>\n",
       "    </tr>\n",
       "    <tr>\n",
       "      <th>1</th>\n",
       "      <td>3910.0</td>\n",
       "      <td>2814.655762</td>\n",
       "      <td>-28.013919</td>\n",
       "    </tr>\n",
       "    <tr>\n",
       "      <th>2</th>\n",
       "      <td>2277.0</td>\n",
       "      <td>3401.615967</td>\n",
       "      <td>49.390249</td>\n",
       "    </tr>\n",
       "    <tr>\n",
       "      <th>3</th>\n",
       "      <td>2424.0</td>\n",
       "      <td>3632.525391</td>\n",
       "      <td>49.856658</td>\n",
       "    </tr>\n",
       "    <tr>\n",
       "      <th>4</th>\n",
       "      <td>5087.0</td>\n",
       "      <td>4381.238770</td>\n",
       "      <td>-13.873820</td>\n",
       "    </tr>\n",
       "    <tr>\n",
       "      <th>5</th>\n",
       "      <td>3959.0</td>\n",
       "      <td>5625.692871</td>\n",
       "      <td>42.098835</td>\n",
       "    </tr>\n",
       "    <tr>\n",
       "      <th>6</th>\n",
       "      <td>5260.0</td>\n",
       "      <td>4332.838379</td>\n",
       "      <td>-17.626647</td>\n",
       "    </tr>\n",
       "    <tr>\n",
       "      <th>7</th>\n",
       "      <td>5323.0</td>\n",
       "      <td>4906.712402</td>\n",
       "      <td>-7.820545</td>\n",
       "    </tr>\n",
       "    <tr>\n",
       "      <th>8</th>\n",
       "      <td>5668.0</td>\n",
       "      <td>4938.327148</td>\n",
       "      <td>-12.873551</td>\n",
       "    </tr>\n",
       "    <tr>\n",
       "      <th>9</th>\n",
       "      <td>5191.0</td>\n",
       "      <td>4882.215820</td>\n",
       "      <td>-5.948453</td>\n",
       "    </tr>\n",
       "    <tr>\n",
       "      <th>10</th>\n",
       "      <td>4649.0</td>\n",
       "      <td>4742.487793</td>\n",
       "      <td>2.010923</td>\n",
       "    </tr>\n",
       "    <tr>\n",
       "      <th>11</th>\n",
       "      <td>6234.0</td>\n",
       "      <td>4411.347656</td>\n",
       "      <td>-29.237285</td>\n",
       "    </tr>\n",
       "    <tr>\n",
       "      <th>12</th>\n",
       "      <td>6606.0</td>\n",
       "      <td>5388.447266</td>\n",
       "      <td>-18.431013</td>\n",
       "    </tr>\n",
       "    <tr>\n",
       "      <th>13</th>\n",
       "      <td>5729.0</td>\n",
       "      <td>5346.668457</td>\n",
       "      <td>-6.673617</td>\n",
       "    </tr>\n",
       "    <tr>\n",
       "      <th>14</th>\n",
       "      <td>5375.0</td>\n",
       "      <td>5367.012695</td>\n",
       "      <td>-0.148601</td>\n",
       "    </tr>\n",
       "    <tr>\n",
       "      <th>15</th>\n",
       "      <td>5008.0</td>\n",
       "      <td>5163.909180</td>\n",
       "      <td>3.113202</td>\n",
       "    </tr>\n",
       "    <tr>\n",
       "      <th>16</th>\n",
       "      <td>5582.0</td>\n",
       "      <td>4651.212891</td>\n",
       "      <td>-16.674796</td>\n",
       "    </tr>\n",
       "    <tr>\n",
       "      <th>17</th>\n",
       "      <td>3228.0</td>\n",
       "      <td>4117.073730</td>\n",
       "      <td>27.542557</td>\n",
       "    </tr>\n",
       "    <tr>\n",
       "      <th>18</th>\n",
       "      <td>5170.0</td>\n",
       "      <td>3408.391113</td>\n",
       "      <td>-34.073673</td>\n",
       "    </tr>\n",
       "    <tr>\n",
       "      <th>19</th>\n",
       "      <td>5501.0</td>\n",
       "      <td>4608.206543</td>\n",
       "      <td>-16.229657</td>\n",
       "    </tr>\n",
       "    <tr>\n",
       "      <th>20</th>\n",
       "      <td>5319.0</td>\n",
       "      <td>5032.201172</td>\n",
       "      <td>-5.391969</td>\n",
       "    </tr>\n",
       "    <tr>\n",
       "      <th>21</th>\n",
       "      <td>5532.0</td>\n",
       "      <td>5262.812988</td>\n",
       "      <td>-4.865998</td>\n",
       "    </tr>\n",
       "    <tr>\n",
       "      <th>22</th>\n",
       "      <td>5611.0</td>\n",
       "      <td>4815.222656</td>\n",
       "      <td>-14.182451</td>\n",
       "    </tr>\n",
       "    <tr>\n",
       "      <th>23</th>\n",
       "      <td>5047.0</td>\n",
       "      <td>4763.952148</td>\n",
       "      <td>-5.608240</td>\n",
       "    </tr>\n",
       "    <tr>\n",
       "      <th>24</th>\n",
       "      <td>3786.0</td>\n",
       "      <td>4406.829102</td>\n",
       "      <td>16.398022</td>\n",
       "    </tr>\n",
       "    <tr>\n",
       "      <th>25</th>\n",
       "      <td>4585.0</td>\n",
       "      <td>4023.627197</td>\n",
       "      <td>-12.243682</td>\n",
       "    </tr>\n",
       "    <tr>\n",
       "      <th>26</th>\n",
       "      <td>5557.0</td>\n",
       "      <td>4660.285156</td>\n",
       "      <td>-16.136672</td>\n",
       "    </tr>\n",
       "    <tr>\n",
       "      <th>27</th>\n",
       "      <td>5267.0</td>\n",
       "      <td>4614.693359</td>\n",
       "      <td>-12.384785</td>\n",
       "    </tr>\n",
       "    <tr>\n",
       "      <th>28</th>\n",
       "      <td>4128.0</td>\n",
       "      <td>5124.055176</td>\n",
       "      <td>24.129244</td>\n",
       "    </tr>\n",
       "    <tr>\n",
       "      <th>29</th>\n",
       "      <td>3623.0</td>\n",
       "      <td>4744.627441</td>\n",
       "      <td>30.958527</td>\n",
       "    </tr>\n",
       "    <tr>\n",
       "      <th>30</th>\n",
       "      <td>1749.0</td>\n",
       "      <td>3821.319580</td>\n",
       "      <td>118.485968</td>\n",
       "    </tr>\n",
       "    <tr>\n",
       "      <th>31</th>\n",
       "      <td>1787.0</td>\n",
       "      <td>1800.754272</td>\n",
       "      <td>0.769685</td>\n",
       "    </tr>\n",
       "    <tr>\n",
       "      <th>32</th>\n",
       "      <td>920.0</td>\n",
       "      <td>3504.689697</td>\n",
       "      <td>280.944532</td>\n",
       "    </tr>\n",
       "    <tr>\n",
       "      <th>33</th>\n",
       "      <td>1013.0</td>\n",
       "      <td>3584.837891</td>\n",
       "      <td>253.883306</td>\n",
       "    </tr>\n",
       "    <tr>\n",
       "      <th>34</th>\n",
       "      <td>441.0</td>\n",
       "      <td>3113.269287</td>\n",
       "      <td>605.956754</td>\n",
       "    </tr>\n",
       "    <tr>\n",
       "      <th>35</th>\n",
       "      <td>2114.0</td>\n",
       "      <td>1313.647705</td>\n",
       "      <td>-37.859617</td>\n",
       "    </tr>\n",
       "    <tr>\n",
       "      <th>36</th>\n",
       "      <td>3095.0</td>\n",
       "      <td>3497.361084</td>\n",
       "      <td>13.000358</td>\n",
       "    </tr>\n",
       "    <tr>\n",
       "      <th>37</th>\n",
       "      <td>1341.0</td>\n",
       "      <td>3426.587158</td>\n",
       "      <td>155.524769</td>\n",
       "    </tr>\n",
       "    <tr>\n",
       "      <th>38</th>\n",
       "      <td>1796.0</td>\n",
       "      <td>2710.139160</td>\n",
       "      <td>50.898617</td>\n",
       "    </tr>\n",
       "    <tr>\n",
       "      <th>39</th>\n",
       "      <td>2729.0</td>\n",
       "      <td>3225.293457</td>\n",
       "      <td>18.185909</td>\n",
       "    </tr>\n",
       "  </tbody>\n",
       "</table>\n",
       "</div>"
      ],
      "text/plain": [
       "    Actual   Prediction        Diff\n",
       "0   2425.0  5330.867676  119.829595\n",
       "1   3910.0  2814.655762  -28.013919\n",
       "2   2277.0  3401.615967   49.390249\n",
       "3   2424.0  3632.525391   49.856658\n",
       "4   5087.0  4381.238770  -13.873820\n",
       "5   3959.0  5625.692871   42.098835\n",
       "6   5260.0  4332.838379  -17.626647\n",
       "7   5323.0  4906.712402   -7.820545\n",
       "8   5668.0  4938.327148  -12.873551\n",
       "9   5191.0  4882.215820   -5.948453\n",
       "10  4649.0  4742.487793    2.010923\n",
       "11  6234.0  4411.347656  -29.237285\n",
       "12  6606.0  5388.447266  -18.431013\n",
       "13  5729.0  5346.668457   -6.673617\n",
       "14  5375.0  5367.012695   -0.148601\n",
       "15  5008.0  5163.909180    3.113202\n",
       "16  5582.0  4651.212891  -16.674796\n",
       "17  3228.0  4117.073730   27.542557\n",
       "18  5170.0  3408.391113  -34.073673\n",
       "19  5501.0  4608.206543  -16.229657\n",
       "20  5319.0  5032.201172   -5.391969\n",
       "21  5532.0  5262.812988   -4.865998\n",
       "22  5611.0  4815.222656  -14.182451\n",
       "23  5047.0  4763.952148   -5.608240\n",
       "24  3786.0  4406.829102   16.398022\n",
       "25  4585.0  4023.627197  -12.243682\n",
       "26  5557.0  4660.285156  -16.136672\n",
       "27  5267.0  4614.693359  -12.384785\n",
       "28  4128.0  5124.055176   24.129244\n",
       "29  3623.0  4744.627441   30.958527\n",
       "30  1749.0  3821.319580  118.485968\n",
       "31  1787.0  1800.754272    0.769685\n",
       "32   920.0  3504.689697  280.944532\n",
       "33  1013.0  3584.837891  253.883306\n",
       "34   441.0  3113.269287  605.956754\n",
       "35  2114.0  1313.647705  -37.859617\n",
       "36  3095.0  3497.361084   13.000358\n",
       "37  1341.0  3426.587158  155.524769\n",
       "38  1796.0  2710.139160   50.898617\n",
       "39  2729.0  3225.293457   18.185909"
      ]
     },
     "execution_count": 32,
     "metadata": {},
     "output_type": "execute_result"
    }
   ],
   "source": [
    "df_result"
   ]
  },
  {
   "cell_type": "code",
   "execution_count": 33,
   "metadata": {
    "colab": {
     "base_uri": "https://localhost:8080/",
     "height": 499
    },
    "id": "YNrHtewZJWlh",
    "outputId": "f78bd50c-edb2-4226-afca-7351c247d706"
   },
   "outputs": [
    {
     "name": "stdout",
     "output_type": "stream",
     "text": [
      "mean:  4001.15\n",
      "mae: 1008.5054656982422\n",
      "mae/mean ratio:  25.20539009280437 %\n",
      "correctness:  74.79460990719562 %\n"
     ]
    }
   ],
   "source": [
    "mean = df_result['Actual'].mean()\n",
    "mae = (df_result['Actual'] - df_result['Prediction']).abs().mean()\n",
    "\n",
    "print(\"mean: \", mean)\n",
    "print(\"mae:\", mae)\n",
    "print(\"mae/mean ratio: \", 100*mae/mean,\"%\")\n",
    "print(\"correctness: \", 100 - 100*mae/mean,\"%\")\n"
   ]
  },
  {
   "cell_type": "code",
   "execution_count": 34,
   "metadata": {
    "id": "ysNM4XF8G6be"
   },
   "outputs": [
    {
     "data": {
      "image/png": "[encoded data removed]",
      "text/plain": [
       "<Figure size 1500x1000 with 1 Axes>"
      ]
     },
     "metadata": {},
     "output_type": "display_data"
    }
   ],
   "source": [
    "plt.figure(figsize=(15,10))\n",
    "plt.plot(df_result['Actual'], color='blue')\n",
    "plt.plot(df_result['Prediction'], color='red')\n",
    "plt.show()\n"
   ]
  },
  {
   "cell_type": "code",
   "execution_count": null,
   "metadata": {
    "id": "HmE75UDsuyvu"
   },
   "outputs": [],
   "source": []
  }
 ],
 "metadata": {
  "accelerator": "GPU",
  "colab": {
   "provenance": []
  },
  "kernelspec": {
   "display_name": "Python 3 (ipykernel)",
   "language": "python",
   "name": "python3"
  },
  "language_info": {
   "codemirror_mode": {
    "name": "ipython",
    "version": 3
   },
   "file_extension": ".py",
   "mimetype": "text/x-python",
   "name": "python",
   "nbconvert_exporter": "python",
   "pygments_lexer": "ipython3",
   "version": "3.9.16"
  }
 },
 "nbformat": 4,
 "nbformat_minor": 1
}
